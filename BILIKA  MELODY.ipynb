{
 "cells": [
  {
   "cell_type": "markdown",
   "id": "c168852c",
   "metadata": {},
   "source": [
    "Name:BILIKA MELODY\n",
    "Reg.no: 2022/DCSE/011/ss\n",
    "Date: 29 07 2022\n",
    "\n",
    "Test one CS Maths"
   ]
  },
  {
   "cell_type": "code",
   "execution_count": 1,
   "id": "35c5d647",
   "metadata": {},
   "outputs": [],
   "source": [
    "#IMPORTING LIBRARIES\n",
    "import numpy as np\n",
    "import pandas as pd\n",
    "import random\n",
    "import statistics"
   ]
  },
  {
   "cell_type": "markdown",
   "id": "d50e4268",
   "metadata": {},
   "source": []
  },
  {
   "cell_type": "markdown",
   "id": "6b4a4a73",
   "metadata": {},
   "source": [
    "#no1\n",
    "A"
   ]
  },
  {
   "cell_type": "markdown",
   "id": "f26ee945",
   "metadata": {},
   "source": [
    "#no2\n",
    "C"
   ]
  },
  {
   "cell_type": "markdown",
   "id": "2b8ac553",
   "metadata": {},
   "source": [
    "#no3\n",
    "D"
   ]
  },
  {
   "cell_type": "markdown",
   "id": "7abbb0e6",
   "metadata": {},
   "source": [
    "#no 4\n",
    "A and D"
   ]
  },
  {
   "cell_type": "markdown",
   "id": "bf52ba8a",
   "metadata": {},
   "source": [
    "#no5\n",
    "C"
   ]
  },
  {
   "cell_type": "markdown",
   "id": "36a372e7",
   "metadata": {},
   "source": [
    "#no6\n",
    "B and D"
   ]
  },
  {
   "cell_type": "markdown",
   "id": "6e6a6a13",
   "metadata": {},
   "source": [
    "#no7\n",
    "C\n"
   ]
  },
  {
   "cell_type": "markdown",
   "id": "6407a7b0",
   "metadata": {},
   "source": [
    "#no8\n",
    "A"
   ]
  },
  {
   "cell_type": "markdown",
   "id": "011f178d",
   "metadata": {},
   "source": [
    "#no9\n",
    "D"
   ]
  },
  {
   "cell_type": "code",
   "execution_count": null,
   "id": "af16f56b",
   "metadata": {},
   "outputs": [],
   "source": [
    "#no10, a\n",
    "C\n",
    "\n",
    "#10,b\n",
    "2"
   ]
  },
  {
   "cell_type": "code",
   "execution_count": 2,
   "id": "e5125750",
   "metadata": {},
   "outputs": [],
   "source": [
    "import numpy as np"
   ]
  },
  {
   "cell_type": "code",
   "execution_count": 10,
   "id": "51b2a5e7",
   "metadata": {},
   "outputs": [
    {
     "name": "stdout",
     "output_type": "stream",
     "text": [
      "[]\n"
     ]
    }
   ],
   "source": []
  },
  {
   "cell_type": "code",
   "execution_count": 12,
   "id": "952eff2b",
   "metadata": {},
   "outputs": [],
   "source": [
    "import numpy as np"
   ]
  },
  {
   "cell_type": "code",
   "execution_count": 13,
   "id": "1426d202",
   "metadata": {},
   "outputs": [
    {
     "name": "stdout",
     "output_type": "stream",
     "text": [
      "(3, 2)\n"
     ]
    }
   ],
   "source": [
    "##no5\n",
    "#no 5:1\n",
    "X = np.array([[25, 2], [5, 26], [3, 7]])\n",
    "z=np.shape(X)\n",
    "print(z)"
   ]
  },
  {
   "cell_type": "code",
   "execution_count": 14,
   "id": "719d81a5",
   "metadata": {},
   "outputs": [
    {
     "name": "stdout",
     "output_type": "stream",
     "text": [
      "[[25  5  3]\n",
      " [ 2 26  7]]\n"
     ]
    }
   ],
   "source": [
    "#no5:2\n",
    "c=np.transpose(X)\n",
    "print(c)"
   ]
  },
  {
   "cell_type": "code",
   "execution_count": 23,
   "id": "13650396",
   "metadata": {},
   "outputs": [
    {
     "ename": "ValueError",
     "evalue": "shapes (3,2) and (3,2) not aligned: 2 (dim 1) != 3 (dim 0)",
     "output_type": "error",
     "traceback": [
      "\u001b[1;31m---------------------------------------------------------------------------\u001b[0m",
      "\u001b[1;31mValueError\u001b[0m                                Traceback (most recent call last)",
      "Input \u001b[1;32mIn [23]\u001b[0m, in \u001b[0;36m<cell line: 3>\u001b[1;34m()\u001b[0m\n\u001b[0;32m      1\u001b[0m X \u001b[38;5;241m=\u001b[39m np\u001b[38;5;241m.\u001b[39marray([[\u001b[38;5;241m25\u001b[39m, \u001b[38;5;241m2\u001b[39m], [\u001b[38;5;241m5\u001b[39m, \u001b[38;5;241m26\u001b[39m], [\u001b[38;5;241m3\u001b[39m, \u001b[38;5;241m7\u001b[39m]])\n\u001b[0;32m      2\u001b[0m A \u001b[38;5;241m=\u001b[39m np\u001b[38;5;241m.\u001b[39marray([[\u001b[38;5;241m3\u001b[39m, \u001b[38;5;241m4\u001b[39m], [\u001b[38;5;241m5\u001b[39m, \u001b[38;5;241m6\u001b[39m], [\u001b[38;5;241m7\u001b[39m, \u001b[38;5;241m8\u001b[39m]])\n\u001b[1;32m----> 3\u001b[0m \u001b[38;5;28mprint\u001b[39m(\u001b[43mnp\u001b[49m\u001b[38;5;241;43m.\u001b[39;49m\u001b[43mdot\u001b[49m\u001b[43m(\u001b[49m\u001b[43mX\u001b[49m\u001b[43m,\u001b[49m\u001b[43mA\u001b[49m\u001b[43m)\u001b[49m)\n",
      "File \u001b[1;32m<__array_function__ internals>:5\u001b[0m, in \u001b[0;36mdot\u001b[1;34m(*args, **kwargs)\u001b[0m\n",
      "\u001b[1;31mValueError\u001b[0m: shapes (3,2) and (3,2) not aligned: 2 (dim 1) != 3 (dim 0)"
     ]
    }
   ],
   "source": [
    "#no5:4\n",
    "X = np.array([[25, 2], [5, 26], [3, 7]])\n",
    "A = np.array([[3, 4], [5, 6], [7, 8]])\n",
    "print(np.dot(X,A))      ##no of rows in X != to number of rows in A therefore"
   ]
  },
  {
   "cell_type": "code",
   "execution_count": 24,
   "id": "f8e06109",
   "metadata": {},
   "outputs": [
    {
     "name": "stdout",
     "output_type": "stream",
     "text": [
      "[[1.  0.2 0.5]\n",
      " [0.2 1.  0.8]\n",
      " [0.5 0.8 1. ]]\n",
      "[[ 1.56521739  0.86956522 -1.47826087]\n",
      " [ 0.86956522  3.26086957 -3.04347826]\n",
      " [-1.47826087 -3.04347826  4.17391304]]\n"
     ]
    }
   ],
   "source": [
    "##NO6\n",
    "#6a\n",
    "m=np.array([[1,0.2,0.5],[0.2,1,0.8],[0.5,0.8,1]])\n",
    "print(m)\n",
    "mtm=np.dot(m.T,m)\n",
    "mtminv=np.linalg.inv(m)\n",
    "print(mtminv)"
   ]
  },
  {
   "cell_type": "code",
   "execution_count": 25,
   "id": "c30d2c54",
   "metadata": {},
   "outputs": [
    {
     "name": "stdout",
     "output_type": "stream",
     "text": [
      "0.2299999999999999\n"
     ]
    }
   ],
   "source": [
    "#6b\n",
    "m=np.array([[1,0.2,0.5],[0.2,1,0.8],[0.5,0.8,1]])\n",
    "print(np.linalg.det(m))"
   ]
  },
  {
   "cell_type": "code",
   "execution_count": 29,
   "id": "55c93c28",
   "metadata": {},
   "outputs": [
    {
     "name": "stdout",
     "output_type": "stream",
     "text": [
      "[25  2  5]\n"
     ]
    }
   ],
   "source": [
    "##no4\n",
    "#4:1\n",
    "X=np.array([25, 2, 5])\n",
    "print(X)"
   ]
  },
  {
   "cell_type": "code",
   "execution_count": 30,
   "id": "7b9d2e80",
   "metadata": {},
   "outputs": [
    {
     "name": "stdout",
     "output_type": "stream",
     "text": [
      "(3,)\n"
     ]
    }
   ],
   "source": [
    "#4:2\n",
    "k=np.shape(X)\n",
    "print(k)"
   ]
  },
  {
   "cell_type": "code",
   "execution_count": 32,
   "id": "2cc1a120",
   "metadata": {},
   "outputs": [
    {
     "name": "stdout",
     "output_type": "stream",
     "text": [
      "[25  2  5]\n"
     ]
    }
   ],
   "source": [
    "#4:3\n",
    "v=np.transpose(X)\n",
    "print(v)"
   ]
  },
  {
   "cell_type": "code",
   "execution_count": null,
   "id": "0d116f53",
   "metadata": {},
   "outputs": [],
   "source": [
    "#4:4\n"
   ]
  },
  {
   "cell_type": "code",
   "execution_count": 43,
   "id": "49b2a8cd",
   "metadata": {},
   "outputs": [
    {
     "name": "stdout",
     "output_type": "stream",
     "text": [
      "0\n"
     ]
    }
   ],
   "source": [
    "##No2:1\n",
    "#head=1\n",
    "#tail=0\n",
    "#coin tossed once=1\n",
    "#probability of success is 0.5\n",
    "n=1\n",
    "p=0.5\n",
    "z=np.random.binomial(n,p)\n",
    "print(z)\n"
   ]
  },
  {
   "cell_type": "code",
   "execution_count": 41,
   "id": "7c6b15e7",
   "metadata": {},
   "outputs": [],
   "source": [
    "#no2:2\n"
   ]
  },
  {
   "cell_type": "code",
   "execution_count": null,
   "id": "807e2f36",
   "metadata": {},
   "outputs": [],
   "source": []
  },
  {
   "cell_type": "code",
   "execution_count": null,
   "id": "e7f91d0c",
   "metadata": {},
   "outputs": [],
   "source": []
  },
  {
   "cell_type": "code",
   "execution_count": null,
   "id": "183fb889",
   "metadata": {},
   "outputs": [],
   "source": []
  }
 ],
 "metadata": {
  "kernelspec": {
   "display_name": "Python 3 (ipykernel)",
   "language": "python",
   "name": "python3"
  },
  "language_info": {
   "codemirror_mode": {
    "name": "ipython",
    "version": 3
   },
   "file_extension": ".py",
   "mimetype": "text/x-python",
   "name": "python",
   "nbconvert_exporter": "python",
   "pygments_lexer": "ipython3",
   "version": "3.9.12"
  }
 },
 "nbformat": 4,
 "nbformat_minor": 5
}
